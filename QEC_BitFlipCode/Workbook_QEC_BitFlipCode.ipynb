{
 "cells": [
  {
   "cell_type": "markdown",
   "metadata": {
    "tags": []
   },
   "source": [
    "# Quantum error correction - bit-flip code quantum kata Workbook\n",
    "\n",
    "**What is this workbook?** \n",
    "A workbook is a collection of problems, accompanied by solutions to them. The explanations focus on the logical steps required to solve a problem; they illustrate the concepts that need to be applied to come up with a solution to the problem, explaining the mathematical steps required.\n",
    "\n",
    "Note that a workbook should not be the primary source of knowledge on the subject matter; it assumes that you've already read a tutorial or a textbook and that you are now seeking to improve your problem-solving skills. You should attempt solving the tasks of the respective kata first, and turn to the workbook only if stuck or for reinforcement. While a textbook emphasizes knowledge acquisition, a workbook emphasizes skill acquisition.\n",
    "\n",
    "This workbook describes the solutions to the problems offered in the [QEC Bit Flip Code Kata](./QEC_BitFlipCode.ipynb). \n",
    "Since the tasks are offered as programming problems, the explanations also cover some elements of Q# that might be non-obvious for a novitiate."
   ]
  },
  {
   "cell_type": "markdown",
   "metadata": {},
   "source": [
    "**What you should know for this workbook**\n",
    "\n",
    "You should be familiar with the following concepts and associated techniques **prior to** beginning work on the Basic Gates Quantum Kata.\n",
    "\n",
    "1. \n",
    "\n",
    "You can also consult the [complete Quantum Katas learning path](https://github.com/microsoft/QuantumKatas#learning-path)."
   ]
  },
  {
   "cell_type": "markdown",
   "metadata": {},
   "source": [
    "### Task 1. Parity Measurements\n",
    "\n",
    "**Input:** three qubits (stored as an array of length 3) in an unknown basis state or in a superposition of basis states of the same parity.\n",
    "\n",
    "**Output:** the parity of this state encoded as a value of `Result` type: `Zero` for parity 0 and `One` for parity 1.  The parity of basis state $| x_{0} x_{1} x_{2}\\rangle$ is defined as $(x_{0} \\oplus x_{1} \\oplus x_{2})$.  After applying the operation the state of the qubits should not change. You can use exactly one measurement.\n",
    "    \n",
    "**Example:** $|000 \\rangle$, $|101\\rangle$ and $|011\\rangle$ all have parity 0, while $|010\\rangle$ and $|111\\rangle$ have parity 1."
   ]
  },
  {
   "cell_type": "markdown",
   "metadata": {},
   "source": [
    "### Solution"
   ]
  },
  {
   "cell_type": "markdown",
   "metadata": {},
   "source": [
    "Parity explanation\n",
    "$$\n",
    "|000\\rangle \\rightarrow (0 + 0 + 0) \\text{ mod } 2 = 0 \\\\\n",
    "|101\\rangle \\rightarrow (1 + 0 + 1) \\text{ mod } 2 = 0 \\\\\n",
    "|011\\rangle \\rightarrow (0 + 1 + 1) \\text{ mod } 2 = 0 \\\\\n",
    "\n",
    "|111\\rangle \\rightarrow (1 + 1 + 1) \\text{ mod } 2 = 1 \\\\\n",
    "|010\\rangle \\rightarrow (0 + 1 + 0) \\text{ mod } 2 = 1 \\\\\n",
    "$$"
   ]
  },
  {
   "cell_type": "code",
   "execution_count": 1,
   "metadata": {},
   "outputs": [
    {
     "name": "stdout",
     "output_type": "stream",
     "text": [
      "Testing on |000⟩ + |011⟩ with parity 0\n",
      "Testing on |000⟩ + |101⟩ with parity 0\n",
      "Testing on |000⟩ + |110⟩ with parity 0\n",
      "Testing on |001⟩ + |010⟩ with parity 1\n",
      "Testing on |001⟩ + |100⟩ with parity 1\n",
      "Testing on |001⟩ + |111⟩ with parity 1\n",
      "Testing on |010⟩ + |100⟩ with parity 1\n",
      "Testing on |010⟩ + |111⟩ with parity 1\n",
      "Testing on |011⟩ + |101⟩ with parity 0\n",
      "Testing on |011⟩ + |110⟩ with parity 0\n",
      "Testing on |100⟩ + |111⟩ with parity 1\n",
      "Testing on |101⟩ + |110⟩ with parity 0\n"
     ]
    },
    {
     "data": {
      "application/x-qsharp-data": "\"Success!\"",
      "text/plain": [
       "Success!"
      ]
     },
     "execution_count": 1,
     "metadata": {},
     "output_type": "execute_result"
    }
   ],
   "source": [
    "%kata T01_MeasureParity \n",
    "\n",
    "operation MeasureParity (register : Qubit[]) : Result {\n",
    "    return Measure([PauliZ, PauliZ, PauliZ], register);\n",
    "}"
   ]
  },
  {
   "cell_type": "markdown",
   "metadata": {},
   "source": [
    "[Return to Task 1. of the QEC Bit Flip Code Kata.](./QEC_BitFlipCode.ipynb#Task-1.-Parity-Measurements)"
   ]
  },
  {
   "cell_type": "markdown",
   "metadata": {},
   "source": [
    "### Task 2. Encoding Codewords\n",
    "\n",
    "**Input**: three qubits in the state $| \\psi \\rangle \\otimes |00\\rangle$, where $|\\psi\\rangle = \\alpha |0\\rangle + \\beta |1\\rangle$ is the state of the first qubit, i.e., `register[0]`.\n",
    "\n",
    "**Goal**:  create a state $|\\bar{\\psi}\\rangle := \\alpha |000\\rangle + \\beta |111\\rangle$ on these qubits.   "
   ]
  },
  {
   "cell_type": "markdown",
   "metadata": {},
   "source": [
    "### Solution"
   ]
  },
  {
   "cell_type": "markdown",
   "metadata": {},
   "source": [
    "Explaination"
   ]
  },
  {
   "cell_type": "code",
   "execution_count": 2,
   "metadata": {},
   "outputs": [
    {
     "data": {
      "application/x-qsharp-data": "\"Success!\"",
      "text/plain": [
       "Success!"
      ]
     },
     "execution_count": 2,
     "metadata": {},
     "output_type": "execute_result"
    }
   ],
   "source": [
    "%kata T02_Encode \n",
    "\n",
    "open Microsoft.Quantum.Arrays;\n",
    "open Microsoft.Quantum.Intrinsic;\n",
    "open Microsoft.Quantum.Canon;\n",
    "\n",
    "operation Encode (register : Qubit[]) : Unit {\n",
    "    ApplyToEachA(CNOT(Head(register), _), Rest(register));\n",
    "}"
   ]
  },
  {
   "cell_type": "markdown",
   "metadata": {},
   "source": [
    "[Return to Task 2. of the QEC Bit Flip Code Kata.](./QEC_BitFlipCode.ipynb#Task-2.-Encoding-Codewords)"
   ]
  },
  {
   "cell_type": "markdown",
   "metadata": {},
   "source": [
    "### Task 3. Error Detection I\n",
    "\n",
    "**Inputs:** three qubits that are either in the state $|\\bar{\\psi}\\rangle = \\alpha |000\\rangle + \\beta |111\\rangle$ or in the state $X\\mathbb{11} |\\bar{\\psi}\\rangle = \\alpha |100\\rangle + \\beta |011\\rangle$.  \n",
    "\n",
    "> Note that the second state is the first state with X applied to the first qubit, which corresponds to an X error happening on the first qubit.\n",
    "\n",
    "**Output:** `Zero` if the input is $|\\bar{\\psi}\\rangle$ (state without the error), `One` if the input is $X\\mathbb{11} |\\bar{\\psi}\\rangle$ (state with the error).  After applying the operation the state of the qubits should not change."
   ]
  },
  {
   "cell_type": "markdown",
   "metadata": {},
   "source": [
    "### Solution"
   ]
  },
  {
   "cell_type": "markdown",
   "metadata": {},
   "source": [
    "Explaination"
   ]
  },
  {
   "cell_type": "code",
   "execution_count": 3,
   "metadata": {},
   "outputs": [
    {
     "data": {
      "application/x-qsharp-data": "\"Success!\"",
      "text/plain": [
       "Success!"
      ]
     },
     "execution_count": 3,
     "metadata": {},
     "output_type": "execute_result"
    }
   ],
   "source": [
    "%kata T03_DetectErrorOnLeftQubit \n",
    "\n",
    "operation DetectErrorOnLeftQubit (register : Qubit[]) : Result {\n",
    "    return Measure([PauliZ, PauliZ], register[0 .. 1]);\n",
    "}"
   ]
  },
  {
   "cell_type": "markdown",
   "metadata": {},
   "source": [
    "[Return to Task 3. of the QEC Bit Flip Code Kata.](./QEC_BitFlipCode.ipynb#Task-3.-Error-Detection-I)"
   ]
  },
  {
   "cell_type": "markdown",
   "metadata": {},
   "source": [
    "### Task 4. Error Correction I\n",
    "\n",
    "**Input:** three qubits that are either in the state $|\\bar{\\psi}\\rangle = \\alpha |000\\rangle + \\beta |111\\rangle$ or in the state $X\\mathbb{11} |\\bar{\\psi}\\rangle = \\alpha |100\\rangle + \\beta |011\\rangle$.\n",
    "\n",
    "**Goal:**  make sure that the qubits are returned to the state $|\\bar{\\psi}\\rangle$  (i.e., determine whether an X error has occurred, and if so, fix it).\n",
    "\n",
    "<br/>\n",
    "<details>\n",
    "  <summary><b>Need a hint? Click here</b> </summary>\n",
    "  You can use task 3 to figure out which state you are given.\n",
    "</details>"
   ]
  },
  {
   "cell_type": "markdown",
   "metadata": {},
   "source": [
    "### Solution"
   ]
  },
  {
   "cell_type": "markdown",
   "metadata": {},
   "source": [
    "Explaination"
   ]
  },
  {
   "cell_type": "code",
   "execution_count": 4,
   "metadata": {},
   "outputs": [
    {
     "data": {
      "application/x-qsharp-data": "\"Success!\"",
      "text/plain": [
       "Success!"
      ]
     },
     "execution_count": 4,
     "metadata": {},
     "output_type": "execute_result"
    }
   ],
   "source": [
    "%kata T04_CorrectErrorOnLeftQubit\n",
    "\n",
    "operation CorrectErrorOnLeftQubit (register : Qubit[]) : Unit {\n",
    "    if (Measure([PauliZ, PauliZ], register[0 .. 1]) == One) {\n",
    "        X(register[0]);\n",
    "    }\n",
    "}"
   ]
  },
  {
   "cell_type": "markdown",
   "metadata": {},
   "source": [
    "[Return to Task 4. of the QEC Bit Flip Code Kata.](./QEC_BitFlipCode.ipynb#Task-4.-Error-Correction-I)"
   ]
  },
  {
   "cell_type": "markdown",
   "metadata": {},
   "source": [
    "### Task 5. Error Detection II\n",
    "\n",
    "**Input:** three qubits that are either in the state $|\\bar{\\psi}\\rangle = \\alpha |000\\rangle + \\beta |111\\rangle$ or in one of the states $X\\mathbb{11} |\\bar{\\psi}\\rangle$, $\\mathbb{1}X\\mathbb{1} |\\bar{\\psi}\\rangle$ or $\\mathbb{11}X |\\bar{\\psi}\\rangle$ (i.e., state $|\\bar{\\psi}\\rangle$ with an X error applied to one of the qubits).\n",
    "\n",
    "**Goal:** determine whether an X error has occurred, and if so, on which qubit.\n",
    "\n",
    "| Error                     | Output |\n",
    "|---------------------------|--------|\n",
    "| None                      | 0      |\n",
    "| $X\\mathbb{11}$            | 1      |\n",
    "| $\\mathbb{1}X\\mathbb{1}$   | 2      |\n",
    "| $\\mathbb{11}X$            | 3      |\n",
    "\n",
    "After applying the operation the state of the qubits should not change."
   ]
  },
  {
   "cell_type": "markdown",
   "metadata": {},
   "source": [
    "### Solution"
   ]
  },
  {
   "cell_type": "markdown",
   "metadata": {},
   "source": [
    "Explaination"
   ]
  },
  {
   "cell_type": "code",
   "execution_count": 5,
   "metadata": {},
   "outputs": [
    {
     "name": "stdout",
     "output_type": "stream",
     "text": [
      "Testing with no error.\n",
      "Testing with error on qubit 1.\n",
      "Testing with error on qubit 2.\n",
      "Testing with error on qubit 3.\n"
     ]
    },
    {
     "data": {
      "application/x-qsharp-data": "\"Success!\"",
      "text/plain": [
       "Success!"
      ]
     },
     "execution_count": 5,
     "metadata": {},
     "output_type": "execute_result"
    }
   ],
   "source": [
    "%kata T05_DetectErrorOnAnyQubit\n",
    "\n",
    "operation DetectErrorOnAnyQubit (register : Qubit[]) : Int {\n",
    "    let m1 = Measure([PauliZ, PauliZ], register[0 .. 1]);\n",
    "    let m2 = Measure([PauliZ, PauliZ], register[1 .. 2]);\n",
    "    \n",
    "    if (m1 == One and m2 == Zero) {\n",
    "        return 1;\n",
    "    }\n",
    "    \n",
    "    if (m1 == One and m2 == One) {\n",
    "        return 2;\n",
    "    }\n",
    "    \n",
    "    if (m1 == Zero and m2 == One) {\n",
    "        return 3;\n",
    "    }\n",
    "    \n",
    "    return 0;\n",
    "}"
   ]
  },
  {
   "cell_type": "markdown",
   "metadata": {},
   "source": [
    "[Return to Task 5. of the QEC Bit Flip Code Kata.](./QEC_BitFlipCode.ipynb#Task-5.-Error-Detection-II)"
   ]
  },
  {
   "cell_type": "markdown",
   "metadata": {},
   "source": [
    "### Task 6. Error Correction II\n",
    "\n",
    "**Input:** three qubits that are either in the state $|\\bar{\\psi}\\rangle = \\alpha |000\\rangle + \\beta |111\\rangle$ or in one of the states $X\\mathbb{11} |\\bar{\\psi}\\rangle$, $\\mathbb{1}X\\mathbb{1} |\\bar{\\psi}\\rangle$ or $\\mathbb{11}X |\\bar{\\psi}\\rangle$ (i.e., the qubits start in state $|\\bar{\\psi}\\rangle$ with an X error possibly applied to one of the qubits).\n",
    "\n",
    "**Goal:**  make sure that the qubits are returned to the state $|\\bar{\\psi}\\rangle$ (i.e., determine whether an X error has occurred on any qubit, and if so, fix it)."
   ]
  },
  {
   "cell_type": "markdown",
   "metadata": {},
   "source": [
    "### Solution"
   ]
  },
  {
   "cell_type": "markdown",
   "metadata": {},
   "source": [
    "Explaination"
   ]
  },
  {
   "cell_type": "code",
   "execution_count": 6,
   "metadata": {},
   "outputs": [
    {
     "name": "stdout",
     "output_type": "stream",
     "text": [
      "Task 06: Testing on [PauliI,PauliI,PauliI]...\n",
      "Task 06: Testing on [PauliX,PauliI,PauliI]...\n",
      "Task 06: Testing on [PauliI,PauliX,PauliI]...\n",
      "Task 06: Testing on [PauliI,PauliI,PauliX]...\n"
     ]
    },
    {
     "data": {
      "application/x-qsharp-data": "\"Success!\"",
      "text/plain": [
       "Success!"
      ]
     },
     "execution_count": 6,
     "metadata": {},
     "output_type": "execute_result"
    }
   ],
   "source": [
    "%kata T06_CorrectErrorOnAnyQubit\n",
    "\n",
    "operation CorrectErrorOnAnyQubit (register : Qubit[]) : Unit {\n",
    "    let idx = DetectErrorOnAnyQubit(register);\n",
    "    if (idx > 0) {\n",
    "        X(register[idx - 1]);\n",
    "    }\n",
    "}"
   ]
  },
  {
   "cell_type": "markdown",
   "metadata": {},
   "source": [
    "[Return to Task 6. of the QEC Bit Flip Code Kata.](./QEC_BitFlipCode.ipynb#Task-6.-Error-Correction-II)"
   ]
  },
  {
   "cell_type": "markdown",
   "metadata": {},
   "source": [
    "> All the tasks in this kata have been dealing with X errors on single qubit.  The bit-flip code doesn't allow one to detect or correct a Z error or multiple X errors.  Indeed, \n",
    "  * A Z error on a logical state $|\\psi\\rangle = \\alpha |0\\rangle + \\beta |1\\rangle$ encoded using the bit-flip code would convert the encoded state $|\\bar{\\psi}\\rangle = \\alpha |000\\rangle + \\beta |111\\rangle$ into $\\alpha |000\\rangle - \\beta |111\\rangle$,  which is a correct code word for logical state $\\alpha |0\\rangle - \\beta |1\\rangle$.  \n",
    "  * Two X errors (say, on qubits 1 and 2) would convert $|\\bar{\\psi}\\rangle$ to $\\alpha |110\\rangle + \\beta |001\\rangle$,  which is a code word for logical state $\\beta |0\\rangle + \\alpha |1\\rangle$ with one X error on qubit 3."
   ]
  },
  {
   "cell_type": "markdown",
   "metadata": {},
   "source": [
    "### Task 7. Logical X Gate\n",
    "\n",
    "**Input:** three qubits that are either in the state $|\\bar{\\psi}\\rangle = \\alpha |000\\rangle + \\beta |111\\rangle$ or in one of the states $X\\mathbb{11} |\\bar{\\psi}\\rangle$, $\\mathbb{1}X\\mathbb{1} |\\bar{\\psi}\\rangle$ or $\\mathbb{11}X |\\bar{\\psi}\\rangle$ (i.e., state $|\\bar{\\psi}\\rangle$ with an X error applied to one of the qubits).\n",
    "\n",
    "**Goal:** apply a logical X operator, i.e., convert the qubits to the state $\\bar{X} |\\bar{\\psi}\\rangle = \\beta |000\\rangle + \\alpha |111\\rangle$ or one of the states that can be represented as $\\bar{X} |\\bar{\\psi}\\rangle$ with an X error applied to one of the qubits (for example, $\\beta |010\\rangle + \\alpha |101\\rangle$).  If the state has an error, you can fix it, but this is not necessary."
   ]
  },
  {
   "cell_type": "markdown",
   "metadata": {},
   "source": [
    "### Solution"
   ]
  },
  {
   "cell_type": "markdown",
   "metadata": {},
   "source": [
    "Explaination"
   ]
  },
  {
   "cell_type": "code",
   "execution_count": 7,
   "metadata": {},
   "outputs": [
    {
     "name": "stdout",
     "output_type": "stream",
     "text": [
      "Task 07: Testing on [PauliI,PauliI,PauliI]...\n",
      "Task 07: Testing on [PauliX,PauliI,PauliI]...\n",
      "Task 07: Testing on [PauliI,PauliX,PauliI]...\n",
      "Task 07: Testing on [PauliI,PauliI,PauliX]...\n"
     ]
    },
    {
     "data": {
      "application/x-qsharp-data": "\"Success!\"",
      "text/plain": [
       "Success!"
      ]
     },
     "execution_count": 7,
     "metadata": {},
     "output_type": "execute_result"
    }
   ],
   "source": [
    "%kata T07_LogicalX\n",
    "\n",
    "operation LogicalX (register : Qubit[]) : Unit {\n",
    "    ApplyToEach(X, register);\n",
    "}"
   ]
  },
  {
   "cell_type": "markdown",
   "metadata": {},
   "source": [
    "[Return to Task 7. of the QEC Bit Flip Code Kata.](./QEC_BitFlipCode.ipynb#Task-7.-Logical-X-Gate)"
   ]
  },
  {
   "cell_type": "markdown",
   "metadata": {},
   "source": [
    "### Task 8. Logical Z Gate\n",
    "\n",
    "**Input:** three qubits that are either in the state $|\\bar{\\psi}\\rangle = \\alpha |000\\rangle + \\beta |111\\rangle$ or in one of the states $X\\mathbb{11} |\\bar{\\psi}\\rangle$, $\\mathbb{1}X\\mathbb{1} |\\bar{\\psi}\\rangle$ or $\\mathbb{11}X |\\bar{\\psi}\\rangle$ (i.e., state $|\\bar{\\psi}\\rangle$ with an X error applied to one of the qubits).\n",
    "\n",
    "**Goal:** apply a logical Z operator, i.e., convert the qubits to the state $\\bar{Z} \\bar{\\psi}\\rangle = \\alpha |000\\rangle - \\beta |111\\rangle$ or one of the states that can be represented as $\\bar{Z} |\\bar{\\psi}\\rangle$ with an X error applied to one of the qubits (for example, $\\alpha |010\\rangle - \\beta |101\\rangle$ ). If the state has an error, you can fix it, but this is not necessary."
   ]
  },
  {
   "cell_type": "markdown",
   "metadata": {},
   "source": [
    "### Solution"
   ]
  },
  {
   "cell_type": "markdown",
   "metadata": {},
   "source": [
    "Explaination"
   ]
  },
  {
   "cell_type": "code",
   "execution_count": 8,
   "metadata": {},
   "outputs": [
    {
     "name": "stdout",
     "output_type": "stream",
     "text": [
      "Task 08: Testing on [PauliI,PauliI,PauliI]...\n",
      "Task 08: Testing on [PauliX,PauliI,PauliI]...\n",
      "Task 08: Testing on [PauliI,PauliX,PauliI]...\n",
      "Task 08: Testing on [PauliI,PauliI,PauliX]...\n"
     ]
    },
    {
     "data": {
      "application/x-qsharp-data": "\"Success!\"",
      "text/plain": [
       "Success!"
      ]
     },
     "execution_count": 8,
     "metadata": {},
     "output_type": "execute_result"
    }
   ],
   "source": [
    "%kata T08_LogicalZ\n",
    "\n",
    "operation LogicalZ (register : Qubit[]) : Unit {\n",
    "    ApplyToEach(Z, register);\n",
    "}"
   ]
  },
  {
   "cell_type": "markdown",
   "metadata": {},
   "source": [
    "[Return to Task 8. of the QEC Bit Flip Code Kata.](./QEC_BitFlipCode.ipynb#Task-8.-Logical-Z-Gate)"
   ]
  }
 ],
 "metadata": {
  "kernelspec": {
   "display_name": "Q#",
   "language": "qsharp",
   "name": "iqsharp"
  },
  "language_info": {
   "file_extension": ".qs",
   "mimetype": "text/x-qsharp",
   "name": "qsharp",
   "version": "0.14"
  },
  "orig_nbformat": 4
 },
 "nbformat": 4,
 "nbformat_minor": 2
}
